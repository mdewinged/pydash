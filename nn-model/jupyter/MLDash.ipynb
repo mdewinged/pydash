{
 "cells": [
  {
   "cell_type": "code",
   "execution_count": 1,
   "id": "e643c093",
   "metadata": {},
   "outputs": [],
   "source": [
    "import pandas\n",
    "import numpy"
   ]
  },
  {
   "cell_type": "markdown",
   "id": "d33d0dc2",
   "metadata": {},
   "source": [
    "# Tratamento de dados"
   ]
  },
  {
   "cell_type": "markdown",
   "id": "174c776b",
   "metadata": {},
   "source": [
    "## Lê o dataset e converte os dados para os tipos corretos"
   ]
  },
  {
   "cell_type": "code",
   "execution_count": 2,
   "id": "7343099b",
   "metadata": {},
   "outputs": [
    {
     "data": {
      "text/html": [
       "<div>\n",
       "<style scoped>\n",
       "    .dataframe tbody tr th:only-of-type {\n",
       "        vertical-align: middle;\n",
       "    }\n",
       "\n",
       "    .dataframe tbody tr th {\n",
       "        vertical-align: top;\n",
       "    }\n",
       "\n",
       "    .dataframe thead th {\n",
       "        text-align: right;\n",
       "    }\n",
       "</style>\n",
       "<table border=\"1\" class=\"dataframe\">\n",
       "  <thead>\n",
       "    <tr style=\"text-align: right;\">\n",
       "      <th></th>\n",
       "      <th>bit_length</th>\n",
       "      <th>request_time</th>\n",
       "      <th>quality_id</th>\n",
       "    </tr>\n",
       "  </thead>\n",
       "  <tbody>\n",
       "    <tr>\n",
       "      <th>0</th>\n",
       "      <td>246000</td>\n",
       "      <td>32138.250163</td>\n",
       "      <td>424520</td>\n",
       "    </tr>\n",
       "    <tr>\n",
       "      <th>1</th>\n",
       "      <td>1001968</td>\n",
       "      <td>32138.328185</td>\n",
       "      <td>808057</td>\n",
       "    </tr>\n",
       "    <tr>\n",
       "      <th>2</th>\n",
       "      <td>925152</td>\n",
       "      <td>32138.540909</td>\n",
       "      <td>1312787</td>\n",
       "    </tr>\n",
       "    <tr>\n",
       "      <th>3</th>\n",
       "      <td>2017528</td>\n",
       "      <td>32138.737442</td>\n",
       "      <td>1662809</td>\n",
       "    </tr>\n",
       "    <tr>\n",
       "      <th>4</th>\n",
       "      <td>2000728</td>\n",
       "      <td>32139.165502</td>\n",
       "      <td>1662809</td>\n",
       "    </tr>\n",
       "    <tr>\n",
       "      <th>...</th>\n",
       "      <td>...</td>\n",
       "      <td>...</td>\n",
       "      <td>...</td>\n",
       "    </tr>\n",
       "    <tr>\n",
       "      <th>592</th>\n",
       "      <td>323928</td>\n",
       "      <td>32874.915077</td>\n",
       "      <td>352546</td>\n",
       "    </tr>\n",
       "    <tr>\n",
       "      <th>593</th>\n",
       "      <td>356568</td>\n",
       "      <td>32875.094521</td>\n",
       "      <td>352546</td>\n",
       "    </tr>\n",
       "    <tr>\n",
       "      <th>594</th>\n",
       "      <td>288896</td>\n",
       "      <td>32875.229367</td>\n",
       "      <td>352546</td>\n",
       "    </tr>\n",
       "    <tr>\n",
       "      <th>595</th>\n",
       "      <td>153760</td>\n",
       "      <td>32875.557518</td>\n",
       "      <td>352546</td>\n",
       "    </tr>\n",
       "    <tr>\n",
       "      <th>596</th>\n",
       "      <td>0</td>\n",
       "      <td>32876.005983</td>\n",
       "      <td>352546</td>\n",
       "    </tr>\n",
       "  </tbody>\n",
       "</table>\n",
       "<p>597 rows × 3 columns</p>\n",
       "</div>"
      ],
      "text/plain": [
       "     bit_length  request_time quality_id\n",
       "0        246000  32138.250163     424520\n",
       "1       1001968  32138.328185     808057\n",
       "2        925152  32138.540909    1312787\n",
       "3       2017528  32138.737442    1662809\n",
       "4       2000728  32139.165502    1662809\n",
       "..          ...           ...        ...\n",
       "592      323928  32874.915077     352546\n",
       "593      356568  32875.094521     352546\n",
       "594      288896  32875.229367     352546\n",
       "595      153760  32875.557518     352546\n",
       "596           0  32876.005983     352546\n",
       "\n",
       "[597 rows x 3 columns]"
      ]
     },
     "execution_count": 2,
     "metadata": {},
     "output_type": "execute_result"
    }
   ],
   "source": [
    "df = pandas.read_csv('dataset.csv')\n",
    "df['quality_id'] = df['quality_id'].astype('category')\n",
    "df"
   ]
  },
  {
   "cell_type": "markdown",
   "id": "7bdb6a62",
   "metadata": {},
   "source": [
    "## Normaliza os dados para treinamento"
   ]
  },
  {
   "cell_type": "code",
   "execution_count": 8,
   "id": "60710dd9",
   "metadata": {},
   "outputs": [
    {
     "data": {
      "text/html": [
       "<div>\n",
       "<style scoped>\n",
       "    .dataframe tbody tr th:only-of-type {\n",
       "        vertical-align: middle;\n",
       "    }\n",
       "\n",
       "    .dataframe tbody tr th {\n",
       "        vertical-align: top;\n",
       "    }\n",
       "\n",
       "    .dataframe thead th {\n",
       "        text-align: right;\n",
       "    }\n",
       "</style>\n",
       "<table border=\"1\" class=\"dataframe\">\n",
       "  <thead>\n",
       "    <tr style=\"text-align: right;\">\n",
       "      <th></th>\n",
       "      <th>bit_length</th>\n",
       "      <th>request_time</th>\n",
       "      <th>quality_id</th>\n",
       "    </tr>\n",
       "  </thead>\n",
       "  <tbody>\n",
       "    <tr>\n",
       "      <th>0</th>\n",
       "      <td>0.110151</td>\n",
       "      <td>0.977559</td>\n",
       "      <td>7</td>\n",
       "    </tr>\n",
       "    <tr>\n",
       "      <th>1</th>\n",
       "      <td>0.448651</td>\n",
       "      <td>0.977562</td>\n",
       "      <td>10</td>\n",
       "    </tr>\n",
       "    <tr>\n",
       "      <th>2</th>\n",
       "      <td>0.414256</td>\n",
       "      <td>0.977568</td>\n",
       "      <td>12</td>\n",
       "    </tr>\n",
       "    <tr>\n",
       "      <th>3</th>\n",
       "      <td>0.903389</td>\n",
       "      <td>0.977574</td>\n",
       "      <td>13</td>\n",
       "    </tr>\n",
       "    <tr>\n",
       "      <th>4</th>\n",
       "      <td>0.895867</td>\n",
       "      <td>0.977587</td>\n",
       "      <td>13</td>\n",
       "    </tr>\n",
       "    <tr>\n",
       "      <th>...</th>\n",
       "      <td>...</td>\n",
       "      <td>...</td>\n",
       "      <td>...</td>\n",
       "    </tr>\n",
       "    <tr>\n",
       "      <th>592</th>\n",
       "      <td>0.145045</td>\n",
       "      <td>0.999967</td>\n",
       "      <td>6</td>\n",
       "    </tr>\n",
       "    <tr>\n",
       "      <th>593</th>\n",
       "      <td>0.159661</td>\n",
       "      <td>0.999972</td>\n",
       "      <td>6</td>\n",
       "    </tr>\n",
       "    <tr>\n",
       "      <th>594</th>\n",
       "      <td>0.129359</td>\n",
       "      <td>0.999976</td>\n",
       "      <td>6</td>\n",
       "    </tr>\n",
       "    <tr>\n",
       "      <th>595</th>\n",
       "      <td>0.068849</td>\n",
       "      <td>0.999986</td>\n",
       "      <td>6</td>\n",
       "    </tr>\n",
       "    <tr>\n",
       "      <th>596</th>\n",
       "      <td>0.000000</td>\n",
       "      <td>1.000000</td>\n",
       "      <td>6</td>\n",
       "    </tr>\n",
       "  </tbody>\n",
       "</table>\n",
       "<p>597 rows × 3 columns</p>\n",
       "</div>"
      ],
      "text/plain": [
       "     bit_length  request_time  quality_id\n",
       "0      0.110151      0.977559           7\n",
       "1      0.448651      0.977562          10\n",
       "2      0.414256      0.977568          12\n",
       "3      0.903389      0.977574          13\n",
       "4      0.895867      0.977587          13\n",
       "..          ...           ...         ...\n",
       "592    0.145045      0.999967           6\n",
       "593    0.159661      0.999972           6\n",
       "594    0.129359      0.999976           6\n",
       "595    0.068849      0.999986           6\n",
       "596    0.000000      1.000000           6\n",
       "\n",
       "[597 rows x 3 columns]"
      ]
     },
     "execution_count": 8,
     "metadata": {},
     "output_type": "execute_result"
    }
   ],
   "source": [
    "df_max_scaled = df.copy()\n",
    "\n",
    "# Normaliza colunas float\n",
    "for column in ['bit_length', 'request_time']:\n",
    "    df_max_scaled[column] = df_max_scaled[column]  / df_max_scaled[column].abs().max()\n",
    "\n",
    "# Converte coluna de qualidades para range 0,19\n",
    "quality_map = {46980: 0, 91917: 1, 135410: 2, 182366: 3, 226106: 4, 270316: 5, 352546: 6, 424520: 7, 537825: 8, 620705: 9, 808057: 10, 1071529: 11, 1312787: 12, 1662809: 13, 2234145: 14, 2617284: 15, 3305118: 16, 3841983: 17, 4242923: 18, 4726737: 19}\n",
    "df_max_scaled.replace({'quality_id': quality_map}, inplace=True)\n",
    "df_max_scaled"
   ]
  },
  {
   "cell_type": "markdown",
   "id": "df9b96c7",
   "metadata": {},
   "source": [
    "## Opcional: tratamentos opcionais"
   ]
  },
  {
   "cell_type": "code",
   "execution_count": 4,
   "id": "48b0811c",
   "metadata": {},
   "outputs": [],
   "source": [
    "# Remoção de outliers\n"
   ]
  },
  {
   "cell_type": "markdown",
   "id": "bc905204",
   "metadata": {},
   "source": [
    "# Treinamento de modelo"
   ]
  },
  {
   "cell_type": "code",
   "execution_count": 16,
   "id": "9cc10376",
   "metadata": {},
   "outputs": [],
   "source": [
    "from sklearn import svm\n",
    "from sklearn.model_selection import train_test_split\n"
   ]
  },
  {
   "cell_type": "code",
   "execution_count": 26,
   "id": "35651b06",
   "metadata": {},
   "outputs": [
    {
     "data": {
      "text/plain": [
       "(417,)"
      ]
     },
     "execution_count": 26,
     "metadata": {},
     "output_type": "execute_result"
    }
   ],
   "source": [
    "# Separação de dados de treinamento e validação\n",
    "\n",
    "X = df_max_scaled.drop(columns=['quality_id']).copy()\n",
    "y = df_max_scaled['quality_id']\n",
    "\n",
    "train_size = 0.7\n",
    "X_train, X_test, y_train, y_test = train_test_split(X, y, train_size=train_size)\n",
    "\n",
    "X_train.shape"
   ]
  },
  {
   "cell_type": "code",
   "execution_count": 23,
   "id": "aadd2916",
   "metadata": {},
   "outputs": [
    {
     "data": {
      "text/plain": [
       "SVC()"
      ]
     },
     "execution_count": 23,
     "metadata": {},
     "output_type": "execute_result"
    }
   ],
   "source": [
    "# Treina o modelo\n",
    "\n",
    "model = svm.SVC()\n",
    "model.fit(X_train, y_train)\n",
    "model"
   ]
  },
  {
   "cell_type": "code",
   "execution_count": 52,
   "id": "c24e8ab9",
   "metadata": {},
   "outputs": [
    {
     "name": "stdout",
     "output_type": "stream",
     "text": [
      "Prediction = 10\n"
     ]
    },
    {
     "name": "stderr",
     "output_type": "stream",
     "text": [
      "/home/matheus/.local/lib/python3.9/site-packages/sklearn/base.py:441: UserWarning: X does not have valid feature names, but SVC was fitted with feature names\n",
      "  warnings.warn(\n"
     ]
    }
   ],
   "source": [
    "# Faz predição com um valor de teste\n",
    "x = numpy.array(X_test.iloc[0])\n",
    "y = numpy.array(y_test.iloc[1])\n",
    "\n",
    "prediction = model.predict([X_test.iloc[0]])\n",
    "print(f'Prediction = {prediction[0]}')\n",
    "#y = y_test[0]"
   ]
  },
  {
   "cell_type": "markdown",
   "id": "f2cec986",
   "metadata": {},
   "source": [
    "## Avaliação do modelo"
   ]
  },
  {
   "cell_type": "code",
   "execution_count": null,
   "id": "7c62573a",
   "metadata": {},
   "outputs": [],
   "source": []
  }
 ],
 "metadata": {
  "kernelspec": {
   "display_name": "Python 3 (ipykernel)",
   "language": "python",
   "name": "python3"
  },
  "language_info": {
   "codemirror_mode": {
    "name": "ipython",
    "version": 3
   },
   "file_extension": ".py",
   "mimetype": "text/x-python",
   "name": "python",
   "nbconvert_exporter": "python",
   "pygments_lexer": "ipython3",
   "version": "3.9.7"
  }
 },
 "nbformat": 4,
 "nbformat_minor": 5
}
